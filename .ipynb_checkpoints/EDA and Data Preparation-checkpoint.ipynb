{
 "cells": [
  {
   "cell_type": "code",
   "execution_count": 1,
   "id": "056b2ec9",
   "metadata": {},
   "outputs": [],
   "source": [
    "# pip install nltk textblob"
   ]
  },
  {
   "cell_type": "code",
   "execution_count": 80,
   "id": "a63b46e4",
   "metadata": {},
   "outputs": [
    {
     "name": "stderr",
     "output_type": "stream",
     "text": [
      "[nltk_data] Downloading package stopwords to /home/hduser/nltk_data...\n",
      "[nltk_data]   Package stopwords is already up-to-date!\n"
     ]
    }
   ],
   "source": [
    "import warnings\n",
    "import pandas as pd\n",
    "import pyspark.sql.functions as fn\n",
    "from datetime import datetime\n",
    "from pyspark.sql.functions import split, explode, udf, col, size, expr, to_date, avg, count, when\n",
    "from pyspark.sql.types import StructType, StructField, StringType, IntegerType, DateType, BooleanType, ArrayType, TimestampType, FloatType\n",
    "import nltk\n",
    "from nltk.corpus import stopwords\n",
    "import re\n",
    "import string\n",
    "from textblob import TextBlob\n",
    "from datetime import date, timedelta\n",
    "import pymongo\n",
    "import numpy as np\n",
    "nltk.download('stopwords')\n",
    "pd.set_option('display.max_columns', None)\n",
    "warnings.filterwarnings(\"ignore\")"
   ]
  },
  {
   "cell_type": "code",
   "execution_count": 3,
   "id": "edc6a2d9",
   "metadata": {},
   "outputs": [],
   "source": [
    "write_config = {\n",
    "    \"uri\": \"mongodb://localhost:27017/CA2.raw_tweets?retryWrites=true&w=majority\",\n",
    "    \"database\": \"CA2\",\n",
    "    \"raw_collection\": \"raw_tweets\",\n",
    "    \"modified_collection\": \"modified_tweets\",\n",
    "    \"aggregates_collection\": \"daily_data\",\n",
    "    \"writeConcern.w\": \"majority\"\n",
    "}"
   ]
  },
  {
   "cell_type": "code",
   "execution_count": 5,
   "id": "1263bcd7",
   "metadata": {},
   "outputs": [],
   "source": [
    "# Load the data from mongoDB\n",
    "rawTweetsDF = spark.read\\\n",
    "    .format(\"mongodb\")\\\n",
    "    .option(\"uri\", write_config[\"uri\"])\\\n",
    "    .option(\"database\", write_config[\"database\"])\\\n",
    "    .option(\"collection\", write_config[\"raw_collection\"])\\\n",
    "    .option(\"writeConcern.w\", write_config[\"writeConcern.w\"])\\\n",
    "    .load()"
   ]
  },
  {
   "cell_type": "code",
   "execution_count": 6,
   "id": "3872210c",
   "metadata": {
    "scrolled": true
   },
   "outputs": [
    {
     "name": "stdout",
     "output_type": "stream",
     "text": [
      "root\n",
      " |-- _id: integer (nullable = true)\n",
      " |-- date: string (nullable = true)\n",
      " |-- flag: string (nullable = true)\n",
      " |-- tweet: string (nullable = true)\n",
      " |-- tweet_id: string (nullable = true)\n",
      " |-- user: string (nullable = true)\n",
      "\n"
     ]
    }
   ],
   "source": [
    "rawTweetsDF.printSchema()"
   ]
  },
  {
   "cell_type": "code",
   "execution_count": 7,
   "id": "e659cd53",
   "metadata": {
    "scrolled": false
   },
   "outputs": [
    {
     "name": "stderr",
     "output_type": "stream",
     "text": [
      "                                                                                \r"
     ]
    },
    {
     "data": {
      "text/html": [
       "<div>\n",
       "<style scoped>\n",
       "    .dataframe tbody tr th:only-of-type {\n",
       "        vertical-align: middle;\n",
       "    }\n",
       "\n",
       "    .dataframe tbody tr th {\n",
       "        vertical-align: top;\n",
       "    }\n",
       "\n",
       "    .dataframe thead th {\n",
       "        text-align: right;\n",
       "    }\n",
       "</style>\n",
       "<table border=\"1\" class=\"dataframe\">\n",
       "  <thead>\n",
       "    <tr style=\"text-align: right;\">\n",
       "      <th></th>\n",
       "      <th>_id</th>\n",
       "      <th>date</th>\n",
       "      <th>flag</th>\n",
       "      <th>tweet</th>\n",
       "      <th>tweet_id</th>\n",
       "      <th>user</th>\n",
       "    </tr>\n",
       "  </thead>\n",
       "  <tbody>\n",
       "    <tr>\n",
       "      <th>0</th>\n",
       "      <td>0</td>\n",
       "      <td>Mon Apr 06 22:19:45 PDT 2009</td>\n",
       "      <td>NO_QUERY</td>\n",
       "      <td>@switchfoot http://twitpic.com/2y1zl - Awww, t...</td>\n",
       "      <td>1467810369</td>\n",
       "      <td>_TheSpecialOne_</td>\n",
       "    </tr>\n",
       "    <tr>\n",
       "      <th>1</th>\n",
       "      <td>1</td>\n",
       "      <td>Mon Apr 06 22:19:49 PDT 2009</td>\n",
       "      <td>NO_QUERY</td>\n",
       "      <td>is upset that he can't update his Facebook by ...</td>\n",
       "      <td>1467810672</td>\n",
       "      <td>scotthamilton</td>\n",
       "    </tr>\n",
       "    <tr>\n",
       "      <th>2</th>\n",
       "      <td>2</td>\n",
       "      <td>Mon Apr 06 22:19:53 PDT 2009</td>\n",
       "      <td>NO_QUERY</td>\n",
       "      <td>@Kenichan I dived many times for the ball. Man...</td>\n",
       "      <td>1467810917</td>\n",
       "      <td>mattycus</td>\n",
       "    </tr>\n",
       "    <tr>\n",
       "      <th>3</th>\n",
       "      <td>3</td>\n",
       "      <td>Mon Apr 06 22:19:57 PDT 2009</td>\n",
       "      <td>NO_QUERY</td>\n",
       "      <td>my whole body feels itchy and like its on fire</td>\n",
       "      <td>1467811184</td>\n",
       "      <td>ElleCTF</td>\n",
       "    </tr>\n",
       "    <tr>\n",
       "      <th>4</th>\n",
       "      <td>4</td>\n",
       "      <td>Mon Apr 06 22:19:57 PDT 2009</td>\n",
       "      <td>NO_QUERY</td>\n",
       "      <td>@nationwideclass no, it's not behaving at all....</td>\n",
       "      <td>1467811193</td>\n",
       "      <td>Karoli</td>\n",
       "    </tr>\n",
       "  </tbody>\n",
       "</table>\n",
       "</div>"
      ],
      "text/plain": [
       "   _id                          date      flag  \\\n",
       "0    0  Mon Apr 06 22:19:45 PDT 2009  NO_QUERY   \n",
       "1    1  Mon Apr 06 22:19:49 PDT 2009  NO_QUERY   \n",
       "2    2  Mon Apr 06 22:19:53 PDT 2009  NO_QUERY   \n",
       "3    3  Mon Apr 06 22:19:57 PDT 2009  NO_QUERY   \n",
       "4    4  Mon Apr 06 22:19:57 PDT 2009  NO_QUERY   \n",
       "\n",
       "                                               tweet    tweet_id  \\\n",
       "0  @switchfoot http://twitpic.com/2y1zl - Awww, t...  1467810369   \n",
       "1  is upset that he can't update his Facebook by ...  1467810672   \n",
       "2  @Kenichan I dived many times for the ball. Man...  1467810917   \n",
       "3    my whole body feels itchy and like its on fire   1467811184   \n",
       "4  @nationwideclass no, it's not behaving at all....  1467811193   \n",
       "\n",
       "              user  \n",
       "0  _TheSpecialOne_  \n",
       "1    scotthamilton  \n",
       "2         mattycus  \n",
       "3          ElleCTF  \n",
       "4           Karoli  "
      ]
     },
     "execution_count": 7,
     "metadata": {},
     "output_type": "execute_result"
    }
   ],
   "source": [
    "rawTweetsDF.toPandas().head()"
   ]
  },
  {
   "cell_type": "code",
   "execution_count": 8,
   "id": "2e1d837e",
   "metadata": {
    "scrolled": true
   },
   "outputs": [
    {
     "name": "stderr",
     "output_type": "stream",
     "text": [
      "                                                                                \r"
     ]
    },
    {
     "data": {
      "text/plain": [
       "1600000"
      ]
     },
     "execution_count": 8,
     "metadata": {},
     "output_type": "execute_result"
    }
   ],
   "source": [
    "rawTweetsDF.count()"
   ]
  },
  {
   "cell_type": "markdown",
   "id": "84b7ad1a",
   "metadata": {},
   "source": [
    "### Check for null values"
   ]
  },
  {
   "cell_type": "code",
   "execution_count": 9,
   "id": "6c292273",
   "metadata": {},
   "outputs": [
    {
     "name": "stderr",
     "output_type": "stream",
     "text": [
      "                                                                                \r"
     ]
    }
   ],
   "source": [
    "# This will check the percentage of null values in the dataset in each columns\n",
    "missingDF = rawTweetsDF.agg(*[\n",
    "    (1 - (fn.count(c) / fn.count('*'))).alias(c + '_miss')\n",
    "    for c in rawTweetsDF.columns\n",
    "]).toPandas()"
   ]
  },
  {
   "cell_type": "code",
   "execution_count": 10,
   "id": "47b6180b",
   "metadata": {},
   "outputs": [
    {
     "data": {
      "text/html": [
       "<div>\n",
       "<style scoped>\n",
       "    .dataframe tbody tr th:only-of-type {\n",
       "        vertical-align: middle;\n",
       "    }\n",
       "\n",
       "    .dataframe tbody tr th {\n",
       "        vertical-align: top;\n",
       "    }\n",
       "\n",
       "    .dataframe thead th {\n",
       "        text-align: right;\n",
       "    }\n",
       "</style>\n",
       "<table border=\"1\" class=\"dataframe\">\n",
       "  <thead>\n",
       "    <tr style=\"text-align: right;\">\n",
       "      <th></th>\n",
       "      <th>variable</th>\n",
       "      <th>value</th>\n",
       "    </tr>\n",
       "  </thead>\n",
       "  <tbody>\n",
       "    <tr>\n",
       "      <th>0</th>\n",
       "      <td>_id_miss</td>\n",
       "      <td>0.0</td>\n",
       "    </tr>\n",
       "    <tr>\n",
       "      <th>1</th>\n",
       "      <td>date_miss</td>\n",
       "      <td>0.0</td>\n",
       "    </tr>\n",
       "    <tr>\n",
       "      <th>2</th>\n",
       "      <td>flag_miss</td>\n",
       "      <td>0.0</td>\n",
       "    </tr>\n",
       "    <tr>\n",
       "      <th>3</th>\n",
       "      <td>tweet_miss</td>\n",
       "      <td>0.0</td>\n",
       "    </tr>\n",
       "    <tr>\n",
       "      <th>4</th>\n",
       "      <td>tweet_id_miss</td>\n",
       "      <td>0.0</td>\n",
       "    </tr>\n",
       "    <tr>\n",
       "      <th>5</th>\n",
       "      <td>user_miss</td>\n",
       "      <td>0.0</td>\n",
       "    </tr>\n",
       "  </tbody>\n",
       "</table>\n",
       "</div>"
      ],
      "text/plain": [
       "        variable  value\n",
       "0       _id_miss    0.0\n",
       "1      date_miss    0.0\n",
       "2      flag_miss    0.0\n",
       "3     tweet_miss    0.0\n",
       "4  tweet_id_miss    0.0\n",
       "5      user_miss    0.0"
      ]
     },
     "execution_count": 10,
     "metadata": {},
     "output_type": "execute_result"
    }
   ],
   "source": [
    "missingDF.melt()"
   ]
  },
  {
   "cell_type": "markdown",
   "id": "cb745e4b",
   "metadata": {},
   "source": [
    "### Check for duplicates"
   ]
  },
  {
   "cell_type": "code",
   "execution_count": 11,
   "id": "0a70bdf6",
   "metadata": {},
   "outputs": [],
   "source": [
    "distinctDF = rawTweetsDF.select(\"tweet_id\").distinct()"
   ]
  },
  {
   "cell_type": "code",
   "execution_count": 12,
   "id": "2a0e10cd",
   "metadata": {},
   "outputs": [
    {
     "name": "stderr",
     "output_type": "stream",
     "text": [
      "                                                                                \r"
     ]
    },
    {
     "data": {
      "text/plain": [
       "1598315"
      ]
     },
     "execution_count": 12,
     "metadata": {},
     "output_type": "execute_result"
    }
   ],
   "source": [
    "distinctDF.count()"
   ]
  },
  {
   "cell_type": "code",
   "execution_count": 13,
   "id": "d906e90c",
   "metadata": {
    "scrolled": false
   },
   "outputs": [
    {
     "name": "stderr",
     "output_type": "stream",
     "text": [
      "                                                                                \r"
     ]
    },
    {
     "data": {
      "text/plain": [
       "1600000"
      ]
     },
     "execution_count": 13,
     "metadata": {},
     "output_type": "execute_result"
    }
   ],
   "source": [
    "rawTweetsDF.select(\"tweet_id\").count()"
   ]
  },
  {
   "cell_type": "code",
   "execution_count": 14,
   "id": "e137eb66",
   "metadata": {},
   "outputs": [],
   "source": [
    "# Retrieve a sample of duplicate records for visual purposes\n",
    "notDuplicateRecordsDF = rawTweetsDF.groupBy(\"tweet_id\").count().where(\"count = 1\").drop(\"count\")\n",
    "duplicateRecordsDF = rawTweetsDF.join(notDuplicateRecordsDF, on=\"tweet_id\", how=\"left_anti\").limit(6)"
   ]
  },
  {
   "cell_type": "code",
   "execution_count": 15,
   "id": "2e573259",
   "metadata": {},
   "outputs": [
    {
     "name": "stderr",
     "output_type": "stream",
     "text": [
      "                                                                                \r"
     ]
    },
    {
     "data": {
      "text/html": [
       "<div>\n",
       "<style scoped>\n",
       "    .dataframe tbody tr th:only-of-type {\n",
       "        vertical-align: middle;\n",
       "    }\n",
       "\n",
       "    .dataframe tbody tr th {\n",
       "        vertical-align: top;\n",
       "    }\n",
       "\n",
       "    .dataframe thead th {\n",
       "        text-align: right;\n",
       "    }\n",
       "</style>\n",
       "<table border=\"1\" class=\"dataframe\">\n",
       "  <thead>\n",
       "    <tr style=\"text-align: right;\">\n",
       "      <th></th>\n",
       "      <th>tweet_id</th>\n",
       "      <th>_id</th>\n",
       "      <th>date</th>\n",
       "      <th>flag</th>\n",
       "      <th>tweet</th>\n",
       "      <th>user</th>\n",
       "    </tr>\n",
       "  </thead>\n",
       "  <tbody>\n",
       "    <tr>\n",
       "      <th>0</th>\n",
       "      <td>1468053611</td>\n",
       "      <td>989</td>\n",
       "      <td>Mon Apr 06 23:28:09 PDT 2009</td>\n",
       "      <td>NO_QUERY</td>\n",
       "      <td>@hellobebe I also send some updates in plurk b...</td>\n",
       "      <td>mariejamora</td>\n",
       "    </tr>\n",
       "    <tr>\n",
       "      <th>1</th>\n",
       "      <td>1468053611</td>\n",
       "      <td>801280</td>\n",
       "      <td>Mon Apr 06 23:28:09 PDT 2009</td>\n",
       "      <td>NO_QUERY</td>\n",
       "      <td>@hellobebe I also send some updates in plurk b...</td>\n",
       "      <td>mariejamora</td>\n",
       "    </tr>\n",
       "    <tr>\n",
       "      <th>2</th>\n",
       "      <td>1468100580</td>\n",
       "      <td>1177</td>\n",
       "      <td>Mon Apr 06 23:42:57 PDT 2009</td>\n",
       "      <td>NO_QUERY</td>\n",
       "      <td>good night swetdreamss to everyonee   and jare...</td>\n",
       "      <td>cristygarza</td>\n",
       "    </tr>\n",
       "    <tr>\n",
       "      <th>3</th>\n",
       "      <td>1468100580</td>\n",
       "      <td>801573</td>\n",
       "      <td>Mon Apr 06 23:42:57 PDT 2009</td>\n",
       "      <td>NO_QUERY</td>\n",
       "      <td>good night swetdreamss to everyonee   and jare...</td>\n",
       "      <td>cristygarza</td>\n",
       "    </tr>\n",
       "    <tr>\n",
       "      <th>4</th>\n",
       "      <td>1468131748</td>\n",
       "      <td>1333</td>\n",
       "      <td>Mon Apr 06 23:53:22 PDT 2009</td>\n",
       "      <td>NO_QUERY</td>\n",
       "      <td>@gordonchiu You're one letter alway!    Korean...</td>\n",
       "      <td>steveslee</td>\n",
       "    </tr>\n",
       "    <tr>\n",
       "      <th>5</th>\n",
       "      <td>1468131748</td>\n",
       "      <td>801794</td>\n",
       "      <td>Mon Apr 06 23:53:22 PDT 2009</td>\n",
       "      <td>NO_QUERY</td>\n",
       "      <td>@gordonchiu You're one letter alway!    Korean...</td>\n",
       "      <td>steveslee</td>\n",
       "    </tr>\n",
       "  </tbody>\n",
       "</table>\n",
       "</div>"
      ],
      "text/plain": [
       "     tweet_id     _id                          date      flag  \\\n",
       "0  1468053611     989  Mon Apr 06 23:28:09 PDT 2009  NO_QUERY   \n",
       "1  1468053611  801280  Mon Apr 06 23:28:09 PDT 2009  NO_QUERY   \n",
       "2  1468100580    1177  Mon Apr 06 23:42:57 PDT 2009  NO_QUERY   \n",
       "3  1468100580  801573  Mon Apr 06 23:42:57 PDT 2009  NO_QUERY   \n",
       "4  1468131748    1333  Mon Apr 06 23:53:22 PDT 2009  NO_QUERY   \n",
       "5  1468131748  801794  Mon Apr 06 23:53:22 PDT 2009  NO_QUERY   \n",
       "\n",
       "                                               tweet         user  \n",
       "0  @hellobebe I also send some updates in plurk b...  mariejamora  \n",
       "1  @hellobebe I also send some updates in plurk b...  mariejamora  \n",
       "2  good night swetdreamss to everyonee   and jare...  cristygarza  \n",
       "3  good night swetdreamss to everyonee   and jare...  cristygarza  \n",
       "4  @gordonchiu You're one letter alway!    Korean...    steveslee  \n",
       "5  @gordonchiu You're one letter alway!    Korean...    steveslee  "
      ]
     },
     "execution_count": 15,
     "metadata": {},
     "output_type": "execute_result"
    }
   ],
   "source": [
    "duplicateRecordsDF.toPandas().head(6)"
   ]
  },
  {
   "cell_type": "markdown",
   "id": "093ccf8f",
   "metadata": {},
   "source": [
    "Since there are duplicate tweets in the dataset, we'll be removing it so that it won't cause an issue when training the model."
   ]
  },
  {
   "cell_type": "code",
   "execution_count": 16,
   "id": "aecbe150",
   "metadata": {},
   "outputs": [
    {
     "name": "stderr",
     "output_type": "stream",
     "text": [
      "                                                                                \r"
     ]
    },
    {
     "data": {
      "text/plain": [
       "1598315"
      ]
     },
     "execution_count": 16,
     "metadata": {},
     "output_type": "execute_result"
    }
   ],
   "source": [
    "duplicatesRemovedDF = rawTweetsDF.dropDuplicates([\"tweet_id\"])\n",
    "duplicatesRemovedDF.count()"
   ]
  },
  {
   "cell_type": "code",
   "execution_count": 17,
   "id": "64bac3c4",
   "metadata": {},
   "outputs": [],
   "source": [
    "rawTweetsDF = duplicatesRemovedDF;"
   ]
  },
  {
   "cell_type": "markdown",
   "id": "cbe48755",
   "metadata": {},
   "source": [
    "## Data Preparation\n",
    "\n",
    "This section shows the steps for the data preparation."
   ]
  },
  {
   "cell_type": "markdown",
   "id": "5d0177d3",
   "metadata": {},
   "source": [
    "### Convert the date to Machine Readable Format\n",
    "Convert the date to an array then use the array to create the date. The created timestamp will be used for aggregation in later steps."
   ]
  },
  {
   "cell_type": "code",
   "execution_count": 21,
   "id": "e130dd24",
   "metadata": {},
   "outputs": [],
   "source": [
    "# use a user defined function to convert the date and remove the time.\n",
    "def convertToDate(s):\n",
    "    # Split the date\n",
    "    split = s.split(\" \")\n",
    "    # Create the timestamp\n",
    "    newDate = datetime.strptime(f\"{split[2]}-{split[1]}-{split[5]}\", \"%d-%b-%Y\")\n",
    "    return newDate.strftime(\"%Y-%m-%d\")\n",
    "    \n",
    "convertToDateUDF = udf(convertToDate, StringType())"
   ]
  },
  {
   "cell_type": "code",
   "execution_count": 22,
   "id": "bde81572",
   "metadata": {},
   "outputs": [],
   "source": [
    "# Create a timestamp from the date array\n",
    "tempDateDF = rawTweetsDF.withColumn(\"date_converted\", convertToDateUDF(rawTweetsDF[\"date\"]))"
   ]
  },
  {
   "cell_type": "code",
   "execution_count": 23,
   "id": "f65da302",
   "metadata": {
    "scrolled": true
   },
   "outputs": [
    {
     "name": "stderr",
     "output_type": "stream",
     "text": [
      "                                                                                \r"
     ]
    },
    {
     "data": {
      "text/html": [
       "<div>\n",
       "<style scoped>\n",
       "    .dataframe tbody tr th:only-of-type {\n",
       "        vertical-align: middle;\n",
       "    }\n",
       "\n",
       "    .dataframe tbody tr th {\n",
       "        vertical-align: top;\n",
       "    }\n",
       "\n",
       "    .dataframe thead th {\n",
       "        text-align: right;\n",
       "    }\n",
       "</style>\n",
       "<table border=\"1\" class=\"dataframe\">\n",
       "  <thead>\n",
       "    <tr style=\"text-align: right;\">\n",
       "      <th></th>\n",
       "      <th>date_converted</th>\n",
       "    </tr>\n",
       "  </thead>\n",
       "  <tbody>\n",
       "    <tr>\n",
       "      <th>0</th>\n",
       "      <td>2009-04-06</td>\n",
       "    </tr>\n",
       "    <tr>\n",
       "      <th>1</th>\n",
       "      <td>2009-04-06</td>\n",
       "    </tr>\n",
       "    <tr>\n",
       "      <th>2</th>\n",
       "      <td>2009-04-06</td>\n",
       "    </tr>\n",
       "    <tr>\n",
       "      <th>3</th>\n",
       "      <td>2009-04-06</td>\n",
       "    </tr>\n",
       "    <tr>\n",
       "      <th>4</th>\n",
       "      <td>2009-04-06</td>\n",
       "    </tr>\n",
       "  </tbody>\n",
       "</table>\n",
       "</div>"
      ],
      "text/plain": [
       "  date_converted\n",
       "0     2009-04-06\n",
       "1     2009-04-06\n",
       "2     2009-04-06\n",
       "3     2009-04-06\n",
       "4     2009-04-06"
      ]
     },
     "execution_count": 23,
     "metadata": {},
     "output_type": "execute_result"
    }
   ],
   "source": [
    "tempDateDF.select(\"date_converted\").limit(5).toPandas().head()"
   ]
  },
  {
   "cell_type": "code",
   "execution_count": 24,
   "id": "a6b35085",
   "metadata": {
    "scrolled": true
   },
   "outputs": [
    {
     "name": "stderr",
     "output_type": "stream",
     "text": [
      "                                                                                \r"
     ]
    },
    {
     "data": {
      "text/html": [
       "<div>\n",
       "<style scoped>\n",
       "    .dataframe tbody tr th:only-of-type {\n",
       "        vertical-align: middle;\n",
       "    }\n",
       "\n",
       "    .dataframe tbody tr th {\n",
       "        vertical-align: top;\n",
       "    }\n",
       "\n",
       "    .dataframe thead th {\n",
       "        text-align: right;\n",
       "    }\n",
       "</style>\n",
       "<table border=\"1\" class=\"dataframe\">\n",
       "  <thead>\n",
       "    <tr style=\"text-align: right;\">\n",
       "      <th></th>\n",
       "      <th>date_converted</th>\n",
       "    </tr>\n",
       "  </thead>\n",
       "  <tbody>\n",
       "    <tr>\n",
       "      <th>1598310</th>\n",
       "      <td>2009-06-25</td>\n",
       "    </tr>\n",
       "    <tr>\n",
       "      <th>1598311</th>\n",
       "      <td>2009-06-25</td>\n",
       "    </tr>\n",
       "    <tr>\n",
       "      <th>1598312</th>\n",
       "      <td>2009-06-25</td>\n",
       "    </tr>\n",
       "    <tr>\n",
       "      <th>1598313</th>\n",
       "      <td>2009-06-25</td>\n",
       "    </tr>\n",
       "    <tr>\n",
       "      <th>1598314</th>\n",
       "      <td>2009-06-25</td>\n",
       "    </tr>\n",
       "  </tbody>\n",
       "</table>\n",
       "</div>"
      ],
      "text/plain": [
       "        date_converted\n",
       "1598310     2009-06-25\n",
       "1598311     2009-06-25\n",
       "1598312     2009-06-25\n",
       "1598313     2009-06-25\n",
       "1598314     2009-06-25"
      ]
     },
     "execution_count": 24,
     "metadata": {},
     "output_type": "execute_result"
    }
   ],
   "source": [
    "tempDateDF.select(\"date_converted\").toPandas().tail()"
   ]
  },
  {
   "cell_type": "code",
   "execution_count": 25,
   "id": "05028fad",
   "metadata": {},
   "outputs": [
    {
     "name": "stdout",
     "output_type": "stream",
     "text": [
      "root\n",
      " |-- _id: integer (nullable = true)\n",
      " |-- date: string (nullable = true)\n",
      " |-- flag: string (nullable = true)\n",
      " |-- tweet: string (nullable = true)\n",
      " |-- tweet_id: string (nullable = true)\n",
      " |-- user: string (nullable = true)\n",
      " |-- date_converted: string (nullable = true)\n",
      "\n"
     ]
    }
   ],
   "source": [
    "tempDateDF.printSchema()"
   ]
  },
  {
   "cell_type": "markdown",
   "id": "2cbc13c8",
   "metadata": {},
   "source": [
    "Getting the distinct date values reveals that there are missing dates from April 06 to June 25. This indicates that there will be data imputation for the time series data."
   ]
  },
  {
   "cell_type": "code",
   "execution_count": 26,
   "id": "e61dbf5a",
   "metadata": {
    "scrolled": true
   },
   "outputs": [
    {
     "name": "stderr",
     "output_type": "stream",
     "text": [
      "                                                                                \r"
     ]
    },
    {
     "data": {
      "text/plain": [
       "48"
      ]
     },
     "execution_count": 26,
     "metadata": {},
     "output_type": "execute_result"
    }
   ],
   "source": [
    "tempDateDF.select(\"date_converted\").distinct().count()"
   ]
  },
  {
   "cell_type": "code",
   "execution_count": 27,
   "id": "c358ff7a",
   "metadata": {},
   "outputs": [],
   "source": [
    "rawTweetsDF = tempDateDF"
   ]
  },
  {
   "cell_type": "markdown",
   "id": "a205578f",
   "metadata": {},
   "source": [
    "### Tweet Cleaning and Preparation\n",
    "This section cleans the tweets by removing the hashtags and user mentions. In addition, the section also computes the sentiment using nltk."
   ]
  },
  {
   "cell_type": "code",
   "execution_count": 28,
   "id": "6e6785b9",
   "metadata": {},
   "outputs": [],
   "source": [
    "def decontracted(phrase):\n",
    "    # specific\n",
    "    phrase = re.sub(r\"won\\'t\", \"will not\", phrase)\n",
    "    phrase = re.sub(r\"can\\'t\", \"cannot\", phrase)\n",
    "\n",
    "    # general\n",
    "    phrase = re.sub(r\"n\\'t\", \" not\", phrase)\n",
    "    phrase = re.sub(r\"\\'re\", \" are\", phrase)\n",
    "    phrase = re.sub(r\"\\'s\", \" is\", phrase)\n",
    "    phrase = re.sub(r\"\\'d\", \" would\", phrase)\n",
    "    phrase = re.sub(r\"\\'ll\", \" will\", phrase)\n",
    "    phrase = re.sub(r\"\\'t\", \" not\", phrase)\n",
    "    phrase = re.sub(r\"\\'ve\", \" have\", phrase)\n",
    "    phrase = re.sub(r\"\\'m\", \" am\", phrase)\n",
    "    return phrase\n",
    "\n",
    "# Converts the tweet to lowercase\n",
    "# Remove mentions and URLs since it doesn't contribute to the sentiment\n",
    "# Removes symbols\n",
    "# Removes stopwords\n",
    "def processTweet (s):\n",
    "    # Lowercase\n",
    "    lowercaseText = s.lower()\n",
    "    #Remove mentions and URLs\n",
    "    processedText = re.sub(r\"(?:\\@|http?\\://|https?\\://|www)\\S+\", \"\", lowercaseText)\n",
    "    processedText = \" \".join(processedText.split())\n",
    "    \n",
    "    # Convert contractions\n",
    "    processedText = \" \".join(decontracted(x) for x in processedText.split())\n",
    "    \n",
    "    # Remove numbers\n",
    "    processedText = \"\".join([i for i in processedText if not i.isdigit()])\n",
    "    \n",
    "    # Remove punctuations\n",
    "    removedSymbols = processedText.translate(str.maketrans('', '', string.punctuation)) #re.sub(r\"[^\\w\\s]\", \"\", processedText)\n",
    "    \n",
    "    # Remove stopwords\n",
    "#     stop = stopwords.words('english')\n",
    "#     text = \" \".join(x for x in processedText.split() if x not in stop)\n",
    "    \n",
    "    return removedSymbols\n",
    "\n",
    "processTweet = udf(processTweet)"
   ]
  },
  {
   "cell_type": "code",
   "execution_count": 29,
   "id": "6892ef0b",
   "metadata": {},
   "outputs": [],
   "source": [
    "modifiedTweetDF = rawTweetsDF.withColumn(\"modified_tweet\", processTweet(rawTweetsDF[\"tweet\"]))"
   ]
  },
  {
   "cell_type": "code",
   "execution_count": 30,
   "id": "deb47636",
   "metadata": {},
   "outputs": [
    {
     "name": "stderr",
     "output_type": "stream",
     "text": [
      "                                                                                \r"
     ]
    },
    {
     "data": {
      "text/html": [
       "<div>\n",
       "<style scoped>\n",
       "    .dataframe tbody tr th:only-of-type {\n",
       "        vertical-align: middle;\n",
       "    }\n",
       "\n",
       "    .dataframe tbody tr th {\n",
       "        vertical-align: top;\n",
       "    }\n",
       "\n",
       "    .dataframe thead th {\n",
       "        text-align: right;\n",
       "    }\n",
       "</style>\n",
       "<table border=\"1\" class=\"dataframe\">\n",
       "  <thead>\n",
       "    <tr style=\"text-align: right;\">\n",
       "      <th></th>\n",
       "      <th>modified_tweet</th>\n",
       "    </tr>\n",
       "  </thead>\n",
       "  <tbody>\n",
       "    <tr>\n",
       "      <th>0</th>\n",
       "      <td>i was out most of the day so did not get much ...</td>\n",
       "    </tr>\n",
       "    <tr>\n",
       "      <th>1</th>\n",
       "      <td>meh almost lover is the exception this track g...</td>\n",
       "    </tr>\n",
       "    <tr>\n",
       "      <th>2</th>\n",
       "      <td>i want to go to promote gear and groove but un...</td>\n",
       "    </tr>\n",
       "    <tr>\n",
       "      <th>3</th>\n",
       "      <td>i cry my asian eyes to sleep at night</td>\n",
       "    </tr>\n",
       "    <tr>\n",
       "      <th>4</th>\n",
       "      <td>ok i am sick and spent an hour sitting in the ...</td>\n",
       "    </tr>\n",
       "  </tbody>\n",
       "</table>\n",
       "</div>"
      ],
      "text/plain": [
       "                                      modified_tweet\n",
       "0  i was out most of the day so did not get much ...\n",
       "1  meh almost lover is the exception this track g...\n",
       "2  i want to go to promote gear and groove but un...\n",
       "3              i cry my asian eyes to sleep at night\n",
       "4  ok i am sick and spent an hour sitting in the ..."
      ]
     },
     "execution_count": 30,
     "metadata": {},
     "output_type": "execute_result"
    }
   ],
   "source": [
    "modifiedTweetDF.select(\"modified_tweet\").limit(5).toPandas().head(5)"
   ]
  },
  {
   "cell_type": "code",
   "execution_count": 31,
   "id": "a5977b7c",
   "metadata": {},
   "outputs": [],
   "source": [
    "# Getting sentiments of the tweets\n",
    "def getSentiment(s):\n",
    "    return TextBlob(s).sentiment[0]\n",
    "\n",
    "getSentimentUDF = udf(getSentiment, FloatType())"
   ]
  },
  {
   "cell_type": "code",
   "execution_count": 32,
   "id": "7633b5cb",
   "metadata": {},
   "outputs": [],
   "source": [
    "modifiedTweetDF = modifiedTweetDF.withColumn(\"sentiment\", getSentimentUDF(modifiedTweetDF[\"modified_tweet\"]))"
   ]
  },
  {
   "cell_type": "code",
   "execution_count": 33,
   "id": "06e660ca",
   "metadata": {
    "scrolled": true
   },
   "outputs": [
    {
     "name": "stderr",
     "output_type": "stream",
     "text": [
      "                                                                                \r"
     ]
    },
    {
     "data": {
      "text/html": [
       "<div>\n",
       "<style scoped>\n",
       "    .dataframe tbody tr th:only-of-type {\n",
       "        vertical-align: middle;\n",
       "    }\n",
       "\n",
       "    .dataframe tbody tr th {\n",
       "        vertical-align: top;\n",
       "    }\n",
       "\n",
       "    .dataframe thead th {\n",
       "        text-align: right;\n",
       "    }\n",
       "</style>\n",
       "<table border=\"1\" class=\"dataframe\">\n",
       "  <thead>\n",
       "    <tr style=\"text-align: right;\">\n",
       "      <th></th>\n",
       "      <th>_id</th>\n",
       "      <th>date</th>\n",
       "      <th>flag</th>\n",
       "      <th>tweet</th>\n",
       "      <th>tweet_id</th>\n",
       "      <th>user</th>\n",
       "      <th>date_converted</th>\n",
       "      <th>modified_tweet</th>\n",
       "      <th>sentiment</th>\n",
       "    </tr>\n",
       "  </thead>\n",
       "  <tbody>\n",
       "    <tr>\n",
       "      <th>0</th>\n",
       "      <td>20</td>\n",
       "      <td>Mon Apr 06 22:20:37 PDT 2009</td>\n",
       "      <td>NO_QUERY</td>\n",
       "      <td>@alydesigns i was out most of the day so didn'...</td>\n",
       "      <td>1467813985</td>\n",
       "      <td>quanvu</td>\n",
       "      <td>2009-04-06</td>\n",
       "      <td>i was out most of the day so did not get much ...</td>\n",
       "      <td>0.350000</td>\n",
       "    </tr>\n",
       "    <tr>\n",
       "      <th>1</th>\n",
       "      <td>29</td>\n",
       "      <td>Mon Apr 06 22:21:04 PDT 2009</td>\n",
       "      <td>NO_QUERY</td>\n",
       "      <td>Meh... Almost Lover is the exception... this t...</td>\n",
       "      <td>1467815753</td>\n",
       "      <td>BaptisteTheFool</td>\n",
       "      <td>2009-04-06</td>\n",
       "      <td>meh almost lover is the exception this track g...</td>\n",
       "      <td>0.000000</td>\n",
       "    </tr>\n",
       "    <tr>\n",
       "      <th>2</th>\n",
       "      <td>31</td>\n",
       "      <td>Mon Apr 06 22:21:07 PDT 2009</td>\n",
       "      <td>NO_QUERY</td>\n",
       "      <td>@alielayus I want to go to promote GEAR AND GR...</td>\n",
       "      <td>1467815924</td>\n",
       "      <td>EmCDL</td>\n",
       "      <td>2009-04-06</td>\n",
       "      <td>i want to go to promote gear and groove but un...</td>\n",
       "      <td>0.000000</td>\n",
       "    </tr>\n",
       "    <tr>\n",
       "      <th>3</th>\n",
       "      <td>34</td>\n",
       "      <td>Mon Apr 06 22:21:21 PDT 2009</td>\n",
       "      <td>NO_QUERY</td>\n",
       "      <td>@HumpNinja I cry my asian eyes to sleep at night</td>\n",
       "      <td>1467816665</td>\n",
       "      <td>jsoo</td>\n",
       "      <td>2009-04-06</td>\n",
       "      <td>i cry my asian eyes to sleep at night</td>\n",
       "      <td>0.000000</td>\n",
       "    </tr>\n",
       "    <tr>\n",
       "      <th>4</th>\n",
       "      <td>35</td>\n",
       "      <td>Mon Apr 06 22:21:20 PDT 2009</td>\n",
       "      <td>NO_QUERY</td>\n",
       "      <td>ok I'm sick and spent an hour sitting in the s...</td>\n",
       "      <td>1467816749</td>\n",
       "      <td>scarletletterm</td>\n",
       "      <td>2009-04-06</td>\n",
       "      <td>ok i am sick and spent an hour sitting in the ...</td>\n",
       "      <td>-0.205714</td>\n",
       "    </tr>\n",
       "  </tbody>\n",
       "</table>\n",
       "</div>"
      ],
      "text/plain": [
       "   _id                          date      flag  \\\n",
       "0   20  Mon Apr 06 22:20:37 PDT 2009  NO_QUERY   \n",
       "1   29  Mon Apr 06 22:21:04 PDT 2009  NO_QUERY   \n",
       "2   31  Mon Apr 06 22:21:07 PDT 2009  NO_QUERY   \n",
       "3   34  Mon Apr 06 22:21:21 PDT 2009  NO_QUERY   \n",
       "4   35  Mon Apr 06 22:21:20 PDT 2009  NO_QUERY   \n",
       "\n",
       "                                               tweet    tweet_id  \\\n",
       "0  @alydesigns i was out most of the day so didn'...  1467813985   \n",
       "1  Meh... Almost Lover is the exception... this t...  1467815753   \n",
       "2  @alielayus I want to go to promote GEAR AND GR...  1467815924   \n",
       "3  @HumpNinja I cry my asian eyes to sleep at night   1467816665   \n",
       "4  ok I'm sick and spent an hour sitting in the s...  1467816749   \n",
       "\n",
       "              user date_converted  \\\n",
       "0           quanvu     2009-04-06   \n",
       "1  BaptisteTheFool     2009-04-06   \n",
       "2            EmCDL     2009-04-06   \n",
       "3             jsoo     2009-04-06   \n",
       "4   scarletletterm     2009-04-06   \n",
       "\n",
       "                                      modified_tweet  sentiment  \n",
       "0  i was out most of the day so did not get much ...   0.350000  \n",
       "1  meh almost lover is the exception this track g...   0.000000  \n",
       "2  i want to go to promote gear and groove but un...   0.000000  \n",
       "3              i cry my asian eyes to sleep at night   0.000000  \n",
       "4  ok i am sick and spent an hour sitting in the ...  -0.205714  "
      ]
     },
     "execution_count": 33,
     "metadata": {},
     "output_type": "execute_result"
    }
   ],
   "source": [
    "modifiedTweetDF.limit(5).toPandas().head()"
   ]
  },
  {
   "cell_type": "markdown",
   "id": "3b235158",
   "metadata": {},
   "source": [
    "Remove the columns that aren't needed in for time series analysis"
   ]
  },
  {
   "cell_type": "code",
   "execution_count": 34,
   "id": "7bd61094",
   "metadata": {},
   "outputs": [],
   "source": [
    "modifiedTweetDF = modifiedTweetDF.drop(\"date\")\n",
    "modifiedTweetDF = modifiedTweetDF.drop(\"flag\")\n",
    "modifiedTweetDF = modifiedTweetDF.drop(\"tweet\")\n",
    "modifiedTweetDF = modifiedTweetDF.drop(\"tweet_id\")\n",
    "modifiedTweetDF = modifiedTweetDF.drop(\"user\")"
   ]
  },
  {
   "cell_type": "code",
   "execution_count": 35,
   "id": "e23b71b8",
   "metadata": {},
   "outputs": [
    {
     "name": "stderr",
     "output_type": "stream",
     "text": [
      "                                                                                \r"
     ]
    },
    {
     "data": {
      "text/html": [
       "<div>\n",
       "<style scoped>\n",
       "    .dataframe tbody tr th:only-of-type {\n",
       "        vertical-align: middle;\n",
       "    }\n",
       "\n",
       "    .dataframe tbody tr th {\n",
       "        vertical-align: top;\n",
       "    }\n",
       "\n",
       "    .dataframe thead th {\n",
       "        text-align: right;\n",
       "    }\n",
       "</style>\n",
       "<table border=\"1\" class=\"dataframe\">\n",
       "  <thead>\n",
       "    <tr style=\"text-align: right;\">\n",
       "      <th></th>\n",
       "      <th>_id</th>\n",
       "      <th>date_converted</th>\n",
       "      <th>modified_tweet</th>\n",
       "      <th>sentiment</th>\n",
       "    </tr>\n",
       "  </thead>\n",
       "  <tbody>\n",
       "    <tr>\n",
       "      <th>0</th>\n",
       "      <td>20</td>\n",
       "      <td>2009-04-06</td>\n",
       "      <td>i was out most of the day so did not get much ...</td>\n",
       "      <td>0.350000</td>\n",
       "    </tr>\n",
       "    <tr>\n",
       "      <th>1</th>\n",
       "      <td>29</td>\n",
       "      <td>2009-04-06</td>\n",
       "      <td>meh almost lover is the exception this track g...</td>\n",
       "      <td>0.000000</td>\n",
       "    </tr>\n",
       "    <tr>\n",
       "      <th>2</th>\n",
       "      <td>31</td>\n",
       "      <td>2009-04-06</td>\n",
       "      <td>i want to go to promote gear and groove but un...</td>\n",
       "      <td>0.000000</td>\n",
       "    </tr>\n",
       "    <tr>\n",
       "      <th>3</th>\n",
       "      <td>34</td>\n",
       "      <td>2009-04-06</td>\n",
       "      <td>i cry my asian eyes to sleep at night</td>\n",
       "      <td>0.000000</td>\n",
       "    </tr>\n",
       "    <tr>\n",
       "      <th>4</th>\n",
       "      <td>35</td>\n",
       "      <td>2009-04-06</td>\n",
       "      <td>ok i am sick and spent an hour sitting in the ...</td>\n",
       "      <td>-0.205714</td>\n",
       "    </tr>\n",
       "  </tbody>\n",
       "</table>\n",
       "</div>"
      ],
      "text/plain": [
       "   _id date_converted                                     modified_tweet  \\\n",
       "0   20     2009-04-06  i was out most of the day so did not get much ...   \n",
       "1   29     2009-04-06  meh almost lover is the exception this track g...   \n",
       "2   31     2009-04-06  i want to go to promote gear and groove but un...   \n",
       "3   34     2009-04-06              i cry my asian eyes to sleep at night   \n",
       "4   35     2009-04-06  ok i am sick and spent an hour sitting in the ...   \n",
       "\n",
       "   sentiment  \n",
       "0   0.350000  \n",
       "1   0.000000  \n",
       "2   0.000000  \n",
       "3   0.000000  \n",
       "4  -0.205714  "
      ]
     },
     "execution_count": 35,
     "metadata": {},
     "output_type": "execute_result"
    }
   ],
   "source": [
    "modifiedTweetDF.limit(5).toPandas()"
   ]
  },
  {
   "cell_type": "markdown",
   "id": "9d33fc7e",
   "metadata": {},
   "source": [
    "Save the modified tweet dataframe to mongoDB. This will serve as a checkpoint incase there will be some modifications to the modified tweets."
   ]
  },
  {
   "cell_type": "code",
   "execution_count": 36,
   "id": "f0294360",
   "metadata": {},
   "outputs": [
    {
     "name": "stderr",
     "output_type": "stream",
     "text": [
      "2023-11-12 02:39:30,873 WARN util.CaseInsensitiveStringMap: Converting duplicated key writeconcern.w into CaseInsensitiveStringMap.\n",
      "                                                                                \r"
     ]
    }
   ],
   "source": [
    "modifiedTweetDF.write\\\n",
    "    .format(\"mongodb\")\\\n",
    "    .mode(\"append\")\\\n",
    "    .option(\"uri\", write_config[\"uri\"])\\\n",
    "    .option(\"database\", write_config[\"database\"])\\\n",
    "    .option(\"collection\", \"modified_tweets\")\\\n",
    "    .option(\"writeConcern.w\", write_config[\"writeConcern.w\"])\\\n",
    "    .save()"
   ]
  },
  {
   "cell_type": "code",
   "execution_count": 37,
   "id": "80cf99b7",
   "metadata": {
    "scrolled": false
   },
   "outputs": [
    {
     "name": "stderr",
     "output_type": "stream",
     "text": [
      "                                                                                \r"
     ]
    },
    {
     "data": {
      "text/html": [
       "<div>\n",
       "<style scoped>\n",
       "    .dataframe tbody tr th:only-of-type {\n",
       "        vertical-align: middle;\n",
       "    }\n",
       "\n",
       "    .dataframe tbody tr th {\n",
       "        vertical-align: top;\n",
       "    }\n",
       "\n",
       "    .dataframe thead th {\n",
       "        text-align: right;\n",
       "    }\n",
       "</style>\n",
       "<table border=\"1\" class=\"dataframe\">\n",
       "  <thead>\n",
       "    <tr style=\"text-align: right;\">\n",
       "      <th></th>\n",
       "      <th>_id</th>\n",
       "      <th>sentiment</th>\n",
       "    </tr>\n",
       "  </thead>\n",
       "  <tbody>\n",
       "    <tr>\n",
       "      <th>count</th>\n",
       "      <td>1.598315e+06</td>\n",
       "      <td>1.598315e+06</td>\n",
       "    </tr>\n",
       "    <tr>\n",
       "      <th>mean</th>\n",
       "      <td>7.995771e+05</td>\n",
       "      <td>9.309262e-02</td>\n",
       "    </tr>\n",
       "    <tr>\n",
       "      <th>std</th>\n",
       "      <td>4.618790e+05</td>\n",
       "      <td>3.288140e-01</td>\n",
       "    </tr>\n",
       "    <tr>\n",
       "      <th>min</th>\n",
       "      <td>0.000000e+00</td>\n",
       "      <td>-1.000000e+00</td>\n",
       "    </tr>\n",
       "    <tr>\n",
       "      <th>25%</th>\n",
       "      <td>3.995785e+05</td>\n",
       "      <td>0.000000e+00</td>\n",
       "    </tr>\n",
       "    <tr>\n",
       "      <th>50%</th>\n",
       "      <td>7.991570e+05</td>\n",
       "      <td>0.000000e+00</td>\n",
       "    </tr>\n",
       "    <tr>\n",
       "      <th>75%</th>\n",
       "      <td>1.199576e+06</td>\n",
       "      <td>2.716667e-01</td>\n",
       "    </tr>\n",
       "    <tr>\n",
       "      <th>max</th>\n",
       "      <td>1.599999e+06</td>\n",
       "      <td>1.000000e+00</td>\n",
       "    </tr>\n",
       "  </tbody>\n",
       "</table>\n",
       "</div>"
      ],
      "text/plain": [
       "                _id     sentiment\n",
       "count  1.598315e+06  1.598315e+06\n",
       "mean   7.995771e+05  9.309262e-02\n",
       "std    4.618790e+05  3.288140e-01\n",
       "min    0.000000e+00 -1.000000e+00\n",
       "25%    3.995785e+05  0.000000e+00\n",
       "50%    7.991570e+05  0.000000e+00\n",
       "75%    1.199576e+06  2.716667e-01\n",
       "max    1.599999e+06  1.000000e+00"
      ]
     },
     "execution_count": 37,
     "metadata": {},
     "output_type": "execute_result"
    }
   ],
   "source": [
    "modifiedTweetDF.toPandas().describe()"
   ]
  },
  {
   "cell_type": "code",
   "execution_count": 38,
   "id": "3268c5a9",
   "metadata": {},
   "outputs": [
    {
     "name": "stderr",
     "output_type": "stream",
     "text": [
      "[Stage 63:>                                                         (0 + 1) / 1]\r"
     ]
    },
    {
     "name": "stdout",
     "output_type": "stream",
     "text": [
      "+--------------------+---------+\n",
      "|      modified_tweet|sentiment|\n",
      "+--------------------+---------+\n",
      "|i treated myself ...|     -1.0|\n",
      "|i see you escaped...|     -1.0|\n",
      "|nawww take me to ...|     -1.0|\n",
      "|roxy that is hyst...|     -1.0|\n",
      "|work is so boring...|     -1.0|\n",
      "|is warning you if...|     -1.0|\n",
      "|on my way to the ...|     -1.0|\n",
      "|well that is me g...|     -1.0|\n",
      "|i wish i had a ca...|     -1.0|\n",
      "|twitter is gettin...|     -1.0|\n",
      "|hey hey hey i dnt...|     -1.0|\n",
      "|the electricity s...|     -1.0|\n",
      "|i am a terrible s...|     -1.0|\n",
      "|what makes iago e...|     -1.0|\n",
      "|alright there was...|     -1.0|\n",
      "|psh i burned my e...|     -1.0|\n",
      "|ohh that must be ...|     -1.0|\n",
      "|tweets are quite ...|     -1.0|\n",
      "|doing my astrolog...|     -1.0|\n",
      "|that would be hys...|     -1.0|\n",
      "+--------------------+---------+\n",
      "only showing top 20 rows\n",
      "\n"
     ]
    },
    {
     "name": "stderr",
     "output_type": "stream",
     "text": [
      "\r",
      "                                                                                \r"
     ]
    }
   ],
   "source": [
    "modifiedTweetDF.select(\"modified_tweet\", \"sentiment\").where(\"sentiment = -1\").show()"
   ]
  },
  {
   "cell_type": "markdown",
   "id": "46f6aed4",
   "metadata": {},
   "source": [
    "### Aggregating tweets\n",
    "\n",
    "In this section, MongoDB was used to aggregate the data since PySpark is slow in aggregating the data. Indexes for date and sentiment were created in MonogDB to make querying faster."
   ]
  },
  {
   "cell_type": "code",
   "execution_count": 55,
   "id": "5ce1e9f8",
   "metadata": {},
   "outputs": [
    {
     "name": "stderr",
     "output_type": "stream",
     "text": [
      "                                                                                \r"
     ]
    }
   ],
   "source": [
    "tempPanda = modifiedTweetDF.select(\"date_converted\").toPandas()"
   ]
  },
  {
   "cell_type": "code",
   "execution_count": 39,
   "id": "303dd38d",
   "metadata": {},
   "outputs": [],
   "source": [
    "client = pymongo.MongoClient(\"localhost\", 27017)\n",
    "db = client.CA2"
   ]
  },
  {
   "cell_type": "code",
   "execution_count": 47,
   "id": "ccadc172",
   "metadata": {},
   "outputs": [],
   "source": [
    "pipeline = [\n",
    "    { \n",
    "        \"$facet\": {\n",
    "            \"aveSenti\": [\n",
    "                { \"$group\": { \"_id\": \"$date_converted\", \"tweet_count\": { \"$sum\": 1 }, \"average_sentiment\": { \"$avg\": \"$sentiment\" } } },\n",
    "                { \"$sort\": { \"_id\": 1 } }\n",
    "            ],\n",
    "            \"posiSenti\": [\n",
    "                { \"$match\": { \"sentiment\": { \"$gt\": 0 } } },\n",
    "                { \"$group\": { \"_id\": \"$date_converted\", \"positive_senti_count\": { \"$sum\": 1 } } },\n",
    "                { \"$sort\": { \"_id\": 1 } }\n",
    "            ],\n",
    "            \"negaSenti\": [\n",
    "                { \"$match\": { \"sentiment\": { \"$lt\": 0 } } },\n",
    "                { \"$group\": { \"_id\": \"$date_converted\", \"negative_senti_count\": { \"$sum\": 1 } } },\n",
    "                { \"$sort\": { \"_id\": 1 } }\n",
    "            ],\n",
    "            \"neuSenti\": [\n",
    "                { \"$match\": { \"sentiment\": { \"$gt\": 0 } } },\n",
    "                { \"$group\": { \"_id\": \"$date_converted\", \"neutral_senti_count\": { \"$sum\": 1 } } },\n",
    "                { \"$sort\": { \"_id\": 1 } }\n",
    "            ],\n",
    "            \n",
    "        } \n",
    "    }\n",
    "]\n",
    "# import pprint\n",
    "# pprint.pprint(list())\n",
    "databaseResponse = list(db.modified_tweets.aggregate(pipeline))"
   ]
  },
  {
   "cell_type": "code",
   "execution_count": 52,
   "id": "e4527faf",
   "metadata": {},
   "outputs": [],
   "source": [
    "averageSentiment = databaseResponse[0][\"aveSenti\"];\n",
    "positiveSentiment = databaseResponse[0][\"posiSenti\"];\n",
    "negativeSentiment = databaseResponse[0][\"negaSenti\"];\n",
    "neutralSentiment = databaseResponse[0][\"neuSenti\"];"
   ]
  },
  {
   "cell_type": "code",
   "execution_count": 81,
   "id": "d48540f9",
   "metadata": {},
   "outputs": [],
   "source": [
    "def getSentiForDay(currDate, sentiPool):\n",
    "    res = list(filter(lambda s: s['_id'] == currDate, sentiPool))\n",
    "    return res[0] if len(res) > 0 else None\n",
    "\n",
    "# Loop through the dates from the start date to the end date of the dataset\n",
    "start_date = datetime.strptime(tempPanda[\"date_converted\"][0], \"%Y-%m-%d\").date()\n",
    "end_date = datetime.strptime(tempPanda[\"date_converted\"][len(tempPanda) - 1], \"%Y-%m-%d\").date()\n",
    "delta = timedelta(days=1)\n",
    "data = []\n",
    "while start_date <= end_date:\n",
    "    currDate = start_date.strftime(\"%Y-%m-%d\")\n",
    "    currAveSenti = getSentiForDay(currDate, averageSentiment)\n",
    "    currPosiSenti = getSentiForDay(currDate, positiveSentiment)\n",
    "    currNegaSenti = getSentiForDay(currDate, negativeSentiment)\n",
    "    currNeuSenti = getSentiForDay(currDate, neutralSentiment)\n",
    "#     print(currAveSenti, currPosiSenti, currNegaSenti, currNeuSenti)\n",
    "    \n",
    "    tweetCount = np.nan\n",
    "    aveSenti = np.nan\n",
    "    posiSenti = np.nan\n",
    "    negaSenti = np.nan\n",
    "    neuSenti = np.nan\n",
    "    \n",
    "    if(currAveSenti):\n",
    "        tweetCount = currAveSenti[\"tweet_count\"]\n",
    "        aveSenti = currAveSenti[\"average_sentiment\"]\n",
    "   \n",
    "    if(currPosiSenti):\n",
    "        posiSenti = currPosiSenti[\"positive_senti_count\"]\n",
    "    \n",
    "    if(currNegaSenti):\n",
    "        negaSenti = currNegaSenti[\"negative_senti_count\"]\n",
    "        \n",
    "    if(currNeuSenti):\n",
    "        neuSenti = currNeuSenti[\"neutral_senti_count\"]\n",
    "        \n",
    "    row = [currDate, tweetCount, aveSenti, posiSenti, posiSenti/tweetCount if posiSenti else np.nan, negaSenti, negaSenti/tweetCount if negaSenti else np.nan, neuSenti, neuSenti/tweetCount if neuSenti else np.nan]\n",
    "    data.append(row)\n",
    "    start_date += delta"
   ]
  },
  {
   "cell_type": "code",
   "execution_count": 82,
   "id": "d9c21c3b",
   "metadata": {},
   "outputs": [],
   "source": [
    "columns = [\"date\", \"tweet_count\", \"average_sentiment\", \"positive_count\", \"positive_ratio\", \"negative_count\", \"negative_ratio\", \"neutral_count\", \"neutral_ratio\"]"
   ]
  },
  {
   "cell_type": "code",
   "execution_count": 88,
   "id": "c5db59c0",
   "metadata": {},
   "outputs": [],
   "source": [
    "tsPDF = pd.DataFrame(data, columns=columns)\n",
    "tsPDF.iteritems = tsPDF.items"
   ]
  },
  {
   "cell_type": "code",
   "execution_count": 90,
   "id": "b8096f29",
   "metadata": {},
   "outputs": [],
   "source": [
    "tsSDF = spark.createDataFrame(tsPDF)"
   ]
  },
  {
   "cell_type": "code",
   "execution_count": 91,
   "id": "f13ddd98",
   "metadata": {},
   "outputs": [
    {
     "name": "stderr",
     "output_type": "stream",
     "text": [
      "2023-11-12 03:19:37,025 WARN util.CaseInsensitiveStringMap: Converting duplicated key writeconcern.w into CaseInsensitiveStringMap.\n"
     ]
    }
   ],
   "source": [
    "tsSDF.write\\\n",
    "    .format(\"mongodb\")\\\n",
    "    .mode(\"append\")\\\n",
    "    .option(\"uri\", write_config[\"uri\"])\\\n",
    "    .option(\"database\", write_config[\"database\"])\\\n",
    "    .option(\"collection\", write_config[\"aggregates_collection\"])\\\n",
    "    .option(\"writeConcern.w\", write_config[\"writeConcern.w\"])\\\n",
    "    .save()"
   ]
  },
  {
   "cell_type": "code",
   "execution_count": null,
   "id": "c26599ed",
   "metadata": {},
   "outputs": [],
   "source": []
  },
  {
   "cell_type": "code",
   "execution_count": null,
   "id": "48e6ca6a",
   "metadata": {},
   "outputs": [],
   "source": []
  },
  {
   "cell_type": "code",
   "execution_count": null,
   "id": "79b48569",
   "metadata": {},
   "outputs": [],
   "source": []
  },
  {
   "cell_type": "code",
   "execution_count": null,
   "id": "1b5826b9",
   "metadata": {},
   "outputs": [],
   "source": []
  },
  {
   "cell_type": "code",
   "execution_count": null,
   "id": "4d9b388f",
   "metadata": {},
   "outputs": [],
   "source": []
  }
 ],
 "metadata": {
  "kernelspec": {
   "display_name": "Python 3 (ipykernel)",
   "language": "python",
   "name": "python3"
  },
  "language_info": {
   "codemirror_mode": {
    "name": "ipython",
    "version": 3
   },
   "file_extension": ".py",
   "mimetype": "text/x-python",
   "name": "python",
   "nbconvert_exporter": "python",
   "pygments_lexer": "ipython3",
   "version": "3.10.12"
  }
 },
 "nbformat": 4,
 "nbformat_minor": 5
}
