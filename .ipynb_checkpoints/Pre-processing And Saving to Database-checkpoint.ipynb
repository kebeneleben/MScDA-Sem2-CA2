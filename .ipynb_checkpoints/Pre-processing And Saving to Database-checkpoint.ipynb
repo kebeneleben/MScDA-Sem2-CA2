{
 "cells": [
  {
   "cell_type": "markdown",
   "id": "69410b17",
   "metadata": {},
   "source": [
    "# Connecting and inserting data from CSV in Hadoop to MongoDB\n",
    "\n",
    "This notebook inserts data to MongoDB\n",
    "\n",
    "This should be run using the command:\n",
    "<code>pyspark --packages org.mongodb.spark:mongo-spark-connector_2.12:10.1.1</code> so that it works with mongoDB connector for Spark\n",
    "- Uses mongoDB 7.0.3\n",
    "- Uses PySpark 3.2.4\n",
    "- Uses Mongo Spark Connector 10.1.1 compatible with Spark 3.2.4 and MongoDB 6 onwards\n"
   ]
  },
  {
   "cell_type": "code",
   "execution_count": 1,
   "id": "bd21d127",
   "metadata": {},
   "outputs": [
    {
     "name": "stdout",
     "output_type": "stream",
     "text": [
      "+---+----------+--------------------+--------+---------------+--------------------+\n",
      "|_id|  tweet_id|                date|    flag|           user|               tweet|\n",
      "+---+----------+--------------------+--------+---------------+--------------------+\n",
      "|  0|1467810369|Mon Apr 06 22:19:...|NO_QUERY|_TheSpecialOne_|@switchfoot http:...|\n",
      "|  1|1467810672|Mon Apr 06 22:19:...|NO_QUERY|  scotthamilton|is upset that he ...|\n",
      "+---+----------+--------------------+--------+---------------+--------------------+\n",
      "only showing top 2 rows\n",
      "\n"
     ]
    }
   ],
   "source": [
    "from pyspark.sql.types import StructType, StructField, StringType, IntegerType, FloatType, DateType, BooleanType\n",
    "\n",
    "# Read from CSV in hadoop and save it to mongoDB\n",
    "dataPath = \"/CA2/data/ProjectTweets.csv\"\n",
    "schema = StructType([\n",
    "    StructField(\"_id\", IntegerType(), True),\n",
    "    StructField(\"tweet_id\", StringType(), True),\n",
    "    StructField(\"date\", StringType(), True),\n",
    "    StructField(\"flag\", StringType(), True),\n",
    "    StructField(\"user\", StringType(), True),\n",
    "    StructField(\"tweet\", StringType(), True),\n",
    "])\n",
    "dataset = spark.read.option(\"multiline\", \"true\").option(\"quote\", '\"').option(\"escape\", \"\\\\\").option(\"escape\", '\"').csv(dataPath ,header=None, schema=schema)\n",
    "dataset.select('*').show(2)"
   ]
  },
  {
   "cell_type": "code",
   "execution_count": 2,
   "id": "672f6d14",
   "metadata": {},
   "outputs": [
    {
     "name": "stderr",
     "output_type": "stream",
     "text": [
      "2023-11-11 00:28:58,070 WARN util.CaseInsensitiveStringMap: Converting duplicated key writeconcern.w into CaseInsensitiveStringMap.\n",
      "                                                                                \r"
     ]
    }
   ],
   "source": [
    "write_config = {\n",
    "    \"uri\": \"mongodb://localhost:27017/CA2.raw_tweets?retryWrites=true&w=majority\",\n",
    "    \"database\": \"CA2\",\n",
    "    \"collection\": \"raw_tweets\",\n",
    "    \"writeConcern.w\": \"majority\"\n",
    "}\n",
    "\n",
    "dataset.write\\\n",
    "    .format(\"mongodb\")\\\n",
    "    .mode(\"append\")\\\n",
    "    .option(\"uri\", write_config[\"uri\"])\\\n",
    "    .option(\"database\", write_config[\"database\"])\\\n",
    "    .option(\"collection\", write_config[\"collection\"])\\\n",
    "    .option(\"writeConcern.w\", write_config[\"writeConcern.w\"])\\\n",
    "    .save()\n"
   ]
  },
  {
   "cell_type": "code",
   "execution_count": 3,
   "id": "5445e8ac",
   "metadata": {
    "scrolled": true
   },
   "outputs": [
    {
     "name": "stderr",
     "output_type": "stream",
     "text": [
      "                                                                                \r"
     ]
    },
    {
     "data": {
      "text/plain": [
       "1600000"
      ]
     },
     "execution_count": 3,
     "metadata": {},
     "output_type": "execute_result"
    }
   ],
   "source": [
    "dataset.select(\"*\").count()"
   ]
  }
 ],
 "metadata": {
  "kernelspec": {
   "display_name": "Python 3 (ipykernel)",
   "language": "python",
   "name": "python3"
  },
  "language_info": {
   "codemirror_mode": {
    "name": "ipython",
    "version": 3
   },
   "file_extension": ".py",
   "mimetype": "text/x-python",
   "name": "python",
   "nbconvert_exporter": "python",
   "pygments_lexer": "ipython3",
   "version": "3.10.12"
  }
 },
 "nbformat": 4,
 "nbformat_minor": 5
}
