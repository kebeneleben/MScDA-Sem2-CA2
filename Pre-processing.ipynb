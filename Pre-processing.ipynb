{
 "cells": [
  {
   "cell_type": "code",
   "execution_count": 1,
   "id": "3cd78297",
   "metadata": {
    "scrolled": true
   },
   "outputs": [
    {
     "name": "stdout",
     "output_type": "stream",
     "text": [
      "Defaulting to user installation because normal site-packages is not writeable\n",
      "Collecting python-dotenv\n",
      "  Downloading python_dotenv-1.0.0-py3-none-any.whl (19 kB)\n",
      "Installing collected packages: python-dotenv\n",
      "Successfully installed python-dotenv-1.0.0\n"
     ]
    }
   ],
   "source": [
    "# !pip install python-dotenv"
   ]
  },
  {
   "cell_type": "code",
   "execution_count": 3,
   "id": "7acd5a34",
   "metadata": {
    "scrolled": true
   },
   "outputs": [
    {
     "name": "stdout",
     "output_type": "stream",
     "text": [
      "Defaulting to user installation because normal site-packages is not writeable\n",
      "Collecting mysql-connector-python\n",
      "  Downloading mysql_connector_python-8.2.0-cp310-cp310-manylinux_2_17_x86_64.whl (31.6 MB)\n",
      "\u001b[2K     \u001b[38;2;114;156;31m━━━━━━━━━━━━━━━━━━━━━━━━━━━━━━━━━━━━━━━━\u001b[0m \u001b[32m31.6/31.6 MB\u001b[0m \u001b[31m10.7 MB/s\u001b[0m eta \u001b[36m0:00:00\u001b[0mm eta \u001b[36m0:00:01\u001b[0m[36m0:00:01\u001b[0m\n",
      "\u001b[?25hCollecting protobuf<=4.21.12,>=4.21.1\n",
      "  Downloading protobuf-4.21.12-cp37-abi3-manylinux2014_x86_64.whl (409 kB)\n",
      "\u001b[2K     \u001b[38;2;114;156;31m━━━━━━━━━━━━━━━━━━━━━━━━━━━━━━━━━━━━━━\u001b[0m \u001b[32m409.8/409.8 KB\u001b[0m \u001b[31m11.6 MB/s\u001b[0m eta \u001b[36m0:00:00\u001b[0mm eta \u001b[36m0:00:01\u001b[0m\n",
      "\u001b[?25hInstalling collected packages: protobuf, mysql-connector-python\n",
      "  Attempting uninstall: protobuf\n",
      "    Found existing installation: protobuf 4.24.4\n",
      "    Uninstalling protobuf-4.24.4:\n",
      "      Successfully uninstalled protobuf-4.24.4\n",
      "Successfully installed mysql-connector-python-8.2.0 protobuf-4.21.12\n"
     ]
    }
   ],
   "source": [
    "# !pip install mysql-connector-python"
   ]
  },
  {
   "cell_type": "markdown",
   "id": "44fba385",
   "metadata": {},
   "source": [
    "This is just a test to see if mysql is running\n",
    "\n",
    "_To Do:_\n",
    "- Use hadoop for reading the CSV and saving it to MySQL"
   ]
  },
  {
   "cell_type": "code",
   "execution_count": 12,
   "id": "f89a7c2e",
   "metadata": {},
   "outputs": [],
   "source": [
    "from dotenv import load_dotenv\n",
    "from os import getenv\n",
    "import mysql.connector"
   ]
  },
  {
   "cell_type": "code",
   "execution_count": 13,
   "id": "f1a6b2c8",
   "metadata": {},
   "outputs": [],
   "source": [
    "load_dotenv()\n",
    "host = getenv(\"HOST\")\n",
    "user = getenv(\"MYSQL_USER\")\n",
    "password = getenv(\"PASSWORD\")"
   ]
  },
  {
   "cell_type": "code",
   "execution_count": 89,
   "id": "a19c1da5",
   "metadata": {},
   "outputs": [
    {
     "name": "stdout",
     "output_type": "stream",
     "text": [
      "<mysql.connector.connection_cext.CMySQLConnection object at 0x7fae68c28fd0>\n"
     ]
    }
   ],
   "source": [
    "db = mysql.connector.connect(\n",
    "    host=host,\n",
    "    user=user,\n",
    "    password=password\n",
    ")\n",
    "print(db)"
   ]
  },
  {
   "cell_type": "code",
   "execution_count": 120,
   "id": "b91786d9",
   "metadata": {},
   "outputs": [],
   "source": [
    "conn = db.cursor()\n",
    "conn.execute(\"CREATE DATABASE IF NOT EXISTS tweets;\")\n",
    "conn.execute(\"USE tweets;\")\n",
    "conn.execute(\"CREATE TABLE IF NOT EXISTS raw_tweets (id INT NOT NULL AUTO_INCREMENT PRIMARY KEY, tweet_id VARCHAR(255), date VARCHAR(255), flag VARCHAR(255), user VARCHAR(255), text TEXT )\")"
   ]
  },
  {
   "cell_type": "code",
   "execution_count": 121,
   "id": "f5929913",
   "metadata": {
    "scrolled": true
   },
   "outputs": [
    {
     "name": "stdout",
     "output_type": "stream",
     "text": [
      "('raw_tweets',)\n"
     ]
    }
   ],
   "source": [
    "conn.execute(\"SHOW TABLES;\")\n",
    "for result in conn:\n",
    "    print(result)"
   ]
  },
  {
   "cell_type": "code",
   "execution_count": 122,
   "id": "41eca7c9",
   "metadata": {
    "scrolled": true
   },
   "outputs": [],
   "source": [
    "import csv\n",
    "# csvTweets = csv.reader(file(\"./data/ProjectTweets.csv\"))\n",
    "# count = 0\n",
    "# for row in csvTweets:\n",
    "#     print(row)\n",
    "#     count += 1\n",
    "#     if count == 5:\n",
    "#         break;\n",
    "count = 0\n",
    "with open(\"./data/ProjectTweets.csv\", mode=\"r\") as csvTweets:\n",
    "    csvReader = csv.reader(csvTweets)\n",
    "    for row in csvReader:\n",
    "        sql = \"INSERT INTO raw_tweets (tweet_id, date, flag, user, text) VALUES (%s, %s, %s, %s, %s) \"\n",
    "#         conn.execute(sql, (row[1], row[2], row[3], row[4], row[5]))\n",
    "#         print(\"INSERTED RECORD\", row[1])\n",
    "        if(row[1]):\n",
    "            conn.execute(sql, (row[1], row[2], row[3], row[4], row[5]))\n",
    "#         print(tuple(row[1:]))"
   ]
  },
  {
   "cell_type": "code",
   "execution_count": 123,
   "id": "3ee19250",
   "metadata": {},
   "outputs": [],
   "source": [
    "db.commit()"
   ]
  },
  {
   "cell_type": "code",
   "execution_count": 124,
   "id": "72053948",
   "metadata": {},
   "outputs": [
    {
     "data": {
      "text/plain": [
       "True"
      ]
     },
     "execution_count": 124,
     "metadata": {},
     "output_type": "execute_result"
    }
   ],
   "source": [
    "conn.close()"
   ]
  },
  {
   "cell_type": "code",
   "execution_count": null,
   "id": "576f6f0b",
   "metadata": {},
   "outputs": [],
   "source": []
  }
 ],
 "metadata": {
  "kernelspec": {
   "display_name": "Python 3 (ipykernel)",
   "language": "python",
   "name": "python3"
  },
  "language_info": {
   "codemirror_mode": {
    "name": "ipython",
    "version": 3
   },
   "file_extension": ".py",
   "mimetype": "text/x-python",
   "name": "python",
   "nbconvert_exporter": "python",
   "pygments_lexer": "ipython3",
   "version": "3.10.12"
  }
 },
 "nbformat": 4,
 "nbformat_minor": 5
}
